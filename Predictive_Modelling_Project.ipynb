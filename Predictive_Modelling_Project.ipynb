{
  "cells": [
    {
      "cell_type": "markdown",
      "id": "81cc6850",
      "metadata": {
        "id": "81cc6850"
      },
      "source": [
        "## Time-Series Forecasting: Predicting Paypal Stock Price Using A Deep Learning Model"
      ]
    },
    {
      "cell_type": "markdown",
      "id": "57d0d085",
      "metadata": {
        "id": "57d0d085"
      },
      "source": [
        "**Long Short-Term Memory (LSTM)** network is a type of recurrent neural network (RNN) capable of learning order dependence in sequence prediction problems. Because LSTM models can store data throughout time, they are good tools for time-series forecasting."
      ]
    },
    {
      "cell_type": "code",
      "execution_count": 29,
      "id": "756ac55f",
      "metadata": {
        "id": "756ac55f"
      },
      "outputs": [],
      "source": [
        "# Import useful libraries\n",
        "import pandas as pd\n",
        "import numpy as np\n",
        "import yfinance as yf\n",
        "from pandas_datareader import data as pdr\n",
        "import seaborn as sns\n",
        "import matplotlib.pyplot as plt"
      ]
    },
    {
      "cell_type": "markdown",
      "id": "f9ed1d4e",
      "metadata": {
        "id": "f9ed1d4e"
      },
      "source": [
        "### Preprocess Data"
      ]
    },
    {
      "cell_type": "code",
      "execution_count": 30,
      "id": "5b9e18e7",
      "metadata": {
        "colab": {
          "base_uri": "https://localhost:8080/",
          "height": 255
        },
        "id": "5b9e18e7",
        "outputId": "06946003-47d9-449c-8cdb-c6e013849c34"
      },
      "outputs": [
        {
          "output_type": "stream",
          "name": "stdout",
          "text": [
            "\r[*********************100%***********************]  1 of 1 completed\n"
          ]
        },
        {
          "output_type": "execute_result",
          "data": {
            "text/plain": [
              "                 Open       High        Low      Close  Adj Close    Volume\n",
              "Date                                                                       \n",
              "2018-01-02  74.235001  74.500000  73.430000  73.839996  73.839996   7296500\n",
              "2018-01-03  74.300003  76.849998  74.050003  76.750000  76.750000   9945400\n",
              "2018-01-04  77.330002  77.929001  76.260002  76.730003  76.730003   8650000\n",
              "2018-01-05  77.110001  78.930000  77.010002  78.699997  78.699997  11822100\n",
              "2018-01-08  78.699997  79.180000  77.773003  79.050003  79.050003   7963600"
            ],
            "text/html": [
              "\n",
              "  <div id=\"df-06b46980-116d-4426-80be-7707b361c2fe\">\n",
              "    <div class=\"colab-df-container\">\n",
              "      <div>\n",
              "<style scoped>\n",
              "    .dataframe tbody tr th:only-of-type {\n",
              "        vertical-align: middle;\n",
              "    }\n",
              "\n",
              "    .dataframe tbody tr th {\n",
              "        vertical-align: top;\n",
              "    }\n",
              "\n",
              "    .dataframe thead th {\n",
              "        text-align: right;\n",
              "    }\n",
              "</style>\n",
              "<table border=\"1\" class=\"dataframe\">\n",
              "  <thead>\n",
              "    <tr style=\"text-align: right;\">\n",
              "      <th></th>\n",
              "      <th>Open</th>\n",
              "      <th>High</th>\n",
              "      <th>Low</th>\n",
              "      <th>Close</th>\n",
              "      <th>Adj Close</th>\n",
              "      <th>Volume</th>\n",
              "    </tr>\n",
              "    <tr>\n",
              "      <th>Date</th>\n",
              "      <th></th>\n",
              "      <th></th>\n",
              "      <th></th>\n",
              "      <th></th>\n",
              "      <th></th>\n",
              "      <th></th>\n",
              "    </tr>\n",
              "  </thead>\n",
              "  <tbody>\n",
              "    <tr>\n",
              "      <th>2018-01-02</th>\n",
              "      <td>74.235001</td>\n",
              "      <td>74.500000</td>\n",
              "      <td>73.430000</td>\n",
              "      <td>73.839996</td>\n",
              "      <td>73.839996</td>\n",
              "      <td>7296500</td>\n",
              "    </tr>\n",
              "    <tr>\n",
              "      <th>2018-01-03</th>\n",
              "      <td>74.300003</td>\n",
              "      <td>76.849998</td>\n",
              "      <td>74.050003</td>\n",
              "      <td>76.750000</td>\n",
              "      <td>76.750000</td>\n",
              "      <td>9945400</td>\n",
              "    </tr>\n",
              "    <tr>\n",
              "      <th>2018-01-04</th>\n",
              "      <td>77.330002</td>\n",
              "      <td>77.929001</td>\n",
              "      <td>76.260002</td>\n",
              "      <td>76.730003</td>\n",
              "      <td>76.730003</td>\n",
              "      <td>8650000</td>\n",
              "    </tr>\n",
              "    <tr>\n",
              "      <th>2018-01-05</th>\n",
              "      <td>77.110001</td>\n",
              "      <td>78.930000</td>\n",
              "      <td>77.010002</td>\n",
              "      <td>78.699997</td>\n",
              "      <td>78.699997</td>\n",
              "      <td>11822100</td>\n",
              "    </tr>\n",
              "    <tr>\n",
              "      <th>2018-01-08</th>\n",
              "      <td>78.699997</td>\n",
              "      <td>79.180000</td>\n",
              "      <td>77.773003</td>\n",
              "      <td>79.050003</td>\n",
              "      <td>79.050003</td>\n",
              "      <td>7963600</td>\n",
              "    </tr>\n",
              "  </tbody>\n",
              "</table>\n",
              "</div>\n",
              "      <button class=\"colab-df-convert\" onclick=\"convertToInteractive('df-06b46980-116d-4426-80be-7707b361c2fe')\"\n",
              "              title=\"Convert this dataframe to an interactive table.\"\n",
              "              style=\"display:none;\">\n",
              "        \n",
              "  <svg xmlns=\"http://www.w3.org/2000/svg\" height=\"24px\"viewBox=\"0 0 24 24\"\n",
              "       width=\"24px\">\n",
              "    <path d=\"M0 0h24v24H0V0z\" fill=\"none\"/>\n",
              "    <path d=\"M18.56 5.44l.94 2.06.94-2.06 2.06-.94-2.06-.94-.94-2.06-.94 2.06-2.06.94zm-11 1L8.5 8.5l.94-2.06 2.06-.94-2.06-.94L8.5 2.5l-.94 2.06-2.06.94zm10 10l.94 2.06.94-2.06 2.06-.94-2.06-.94-.94-2.06-.94 2.06-2.06.94z\"/><path d=\"M17.41 7.96l-1.37-1.37c-.4-.4-.92-.59-1.43-.59-.52 0-1.04.2-1.43.59L10.3 9.45l-7.72 7.72c-.78.78-.78 2.05 0 2.83L4 21.41c.39.39.9.59 1.41.59.51 0 1.02-.2 1.41-.59l7.78-7.78 2.81-2.81c.8-.78.8-2.07 0-2.86zM5.41 20L4 18.59l7.72-7.72 1.47 1.35L5.41 20z\"/>\n",
              "  </svg>\n",
              "      </button>\n",
              "      \n",
              "  <style>\n",
              "    .colab-df-container {\n",
              "      display:flex;\n",
              "      flex-wrap:wrap;\n",
              "      gap: 12px;\n",
              "    }\n",
              "\n",
              "    .colab-df-convert {\n",
              "      background-color: #E8F0FE;\n",
              "      border: none;\n",
              "      border-radius: 50%;\n",
              "      cursor: pointer;\n",
              "      display: none;\n",
              "      fill: #1967D2;\n",
              "      height: 32px;\n",
              "      padding: 0 0 0 0;\n",
              "      width: 32px;\n",
              "    }\n",
              "\n",
              "    .colab-df-convert:hover {\n",
              "      background-color: #E2EBFA;\n",
              "      box-shadow: 0px 1px 2px rgba(60, 64, 67, 0.3), 0px 1px 3px 1px rgba(60, 64, 67, 0.15);\n",
              "      fill: #174EA6;\n",
              "    }\n",
              "\n",
              "    [theme=dark] .colab-df-convert {\n",
              "      background-color: #3B4455;\n",
              "      fill: #D2E3FC;\n",
              "    }\n",
              "\n",
              "    [theme=dark] .colab-df-convert:hover {\n",
              "      background-color: #434B5C;\n",
              "      box-shadow: 0px 1px 3px 1px rgba(0, 0, 0, 0.15);\n",
              "      filter: drop-shadow(0px 1px 2px rgba(0, 0, 0, 0.3));\n",
              "      fill: #FFFFFF;\n",
              "    }\n",
              "  </style>\n",
              "\n",
              "      <script>\n",
              "        const buttonEl =\n",
              "          document.querySelector('#df-06b46980-116d-4426-80be-7707b361c2fe button.colab-df-convert');\n",
              "        buttonEl.style.display =\n",
              "          google.colab.kernel.accessAllowed ? 'block' : 'none';\n",
              "\n",
              "        async function convertToInteractive(key) {\n",
              "          const element = document.querySelector('#df-06b46980-116d-4426-80be-7707b361c2fe');\n",
              "          const dataTable =\n",
              "            await google.colab.kernel.invokeFunction('convertToInteractive',\n",
              "                                                     [key], {});\n",
              "          if (!dataTable) return;\n",
              "\n",
              "          const docLinkHtml = 'Like what you see? Visit the ' +\n",
              "            '<a target=\"_blank\" href=https://colab.research.google.com/notebooks/data_table.ipynb>data table notebook</a>'\n",
              "            + ' to learn more about interactive tables.';\n",
              "          element.innerHTML = '';\n",
              "          dataTable['output_type'] = 'display_data';\n",
              "          await google.colab.output.renderOutput(dataTable, element);\n",
              "          const docLink = document.createElement('div');\n",
              "          docLink.innerHTML = docLinkHtml;\n",
              "          element.appendChild(docLink);\n",
              "        }\n",
              "      </script>\n",
              "    </div>\n",
              "  </div>\n",
              "  "
            ]
          },
          "metadata": {},
          "execution_count": 30
        }
      ],
      "source": [
        "# import the data\n",
        "yf.pdr_override()\n",
        "\n",
        "pypl_data = pdr.get_data_yahoo(\"PYPL\", start=\"2018-01-01\", end=\"2023-06-20\")\n",
        "pypl_data.head()"
      ]
    },
    {
      "cell_type": "code",
      "execution_count": 31,
      "id": "7b755991",
      "metadata": {
        "colab": {
          "base_uri": "https://localhost:8080/"
        },
        "id": "7b755991",
        "outputId": "4b3183b0-7cfd-4408-cdff-0210f7c88328"
      },
      "outputs": [
        {
          "output_type": "execute_result",
          "data": {
            "text/plain": [
              "(1374, 6)"
            ]
          },
          "metadata": {},
          "execution_count": 31
        }
      ],
      "source": [
        "pypl_data.shape"
      ]
    },
    {
      "cell_type": "code",
      "execution_count": 32,
      "id": "ce4571b7",
      "metadata": {
        "colab": {
          "base_uri": "https://localhost:8080/",
          "height": 515
        },
        "id": "ce4571b7",
        "outputId": "0fbe83bc-de99-4a1c-af01-1fbbf7090d24"
      },
      "outputs": [
        {
          "output_type": "execute_result",
          "data": {
            "text/plain": [
              "Text(0.5, 1.0, 'History of Closing price')"
            ]
          },
          "metadata": {},
          "execution_count": 32
        },
        {
          "output_type": "display_data",
          "data": {
            "text/plain": [
              "<Figure size 1200x500 with 1 Axes>"
            ],
            "image/png": "[encoded data removed]"
          },
          "metadata": {}
        }
      ],
      "source": [
        "plt.figure(figsize=(12,5))\n",
        "sns.lineplot(x= pypl_data.index,y=pypl_data['Close'])\n",
        "plt.xlabel('Date', fontsize=15)\n",
        "plt.ylabel('closing price USD',fontsize=15)\n",
        "plt.title('History of Closing price',fontsize=18)"
      ]
    },
    {
      "cell_type": "code",
      "execution_count": 33,
      "id": "476b5184",
      "metadata": {
        "id": "476b5184"
      },
      "outputs": [],
      "source": [
        "# Split the data set into Train and Test\n",
        "# with 75% of data as training set\n",
        "data_train = pypl_data[:1030]\n",
        "data_test = pypl_data[1030:]"
      ]
    },
    {
      "cell_type": "code",
      "execution_count": 34,
      "id": "4cbfa5f7",
      "metadata": {
        "id": "4cbfa5f7"
      },
      "outputs": [],
      "source": [
        "# Save data as csv\n",
        "data_train.to_csv('data_train.csv')\n",
        "data_test.to_csv('data_test.csv')"
      ]
    },
    {
      "cell_type": "code",
      "execution_count": 35,
      "id": "347318d9",
      "metadata": {
        "colab": {
          "base_uri": "https://localhost:8080/",
          "height": 237
        },
        "id": "347318d9",
        "outputId": "3c99e2cb-afe5-4a54-d8ae-734d3e7de1c1"
      },
      "outputs": [
        {
          "output_type": "execute_result",
          "data": {
            "text/plain": [
              "                Close\n",
              "Date                 \n",
              "2018-01-02  73.839996\n",
              "2018-01-03  76.750000\n",
              "2018-01-04  76.730003\n",
              "2018-01-05  78.699997\n",
              "2018-01-08  79.050003"
            ],
            "text/html": [
              "\n",
              "  <div id=\"df-782d4b12-c1a5-4f69-8bb2-4cffa93bb5a2\">\n",
              "    <div class=\"colab-df-container\">\n",
              "      <div>\n",
              "<style scoped>\n",
              "    .dataframe tbody tr th:only-of-type {\n",
              "        vertical-align: middle;\n",
              "    }\n",
              "\n",
              "    .dataframe tbody tr th {\n",
              "        vertical-align: top;\n",
              "    }\n",
              "\n",
              "    .dataframe thead th {\n",
              "        text-align: right;\n",
              "    }\n",
              "</style>\n",
              "<table border=\"1\" class=\"dataframe\">\n",
              "  <thead>\n",
              "    <tr style=\"text-align: right;\">\n",
              "      <th></th>\n",
              "      <th>Close</th>\n",
              "    </tr>\n",
              "    <tr>\n",
              "      <th>Date</th>\n",
              "      <th></th>\n",
              "    </tr>\n",
              "  </thead>\n",
              "  <tbody>\n",
              "    <tr>\n",
              "      <th>2018-01-02</th>\n",
              "      <td>73.839996</td>\n",
              "    </tr>\n",
              "    <tr>\n",
              "      <th>2018-01-03</th>\n",
              "      <td>76.750000</td>\n",
              "    </tr>\n",
              "    <tr>\n",
              "      <th>2018-01-04</th>\n",
              "      <td>76.730003</td>\n",
              "    </tr>\n",
              "    <tr>\n",
              "      <th>2018-01-05</th>\n",
              "      <td>78.699997</td>\n",
              "    </tr>\n",
              "    <tr>\n",
              "      <th>2018-01-08</th>\n",
              "      <td>79.050003</td>\n",
              "    </tr>\n",
              "  </tbody>\n",
              "</table>\n",
              "</div>\n",
              "      <button class=\"colab-df-convert\" onclick=\"convertToInteractive('df-782d4b12-c1a5-4f69-8bb2-4cffa93bb5a2')\"\n",
              "              title=\"Convert this dataframe to an interactive table.\"\n",
              "              style=\"display:none;\">\n",
              "        \n",
              "  <svg xmlns=\"http://www.w3.org/2000/svg\" height=\"24px\"viewBox=\"0 0 24 24\"\n",
              "       width=\"24px\">\n",
              "    <path d=\"M0 0h24v24H0V0z\" fill=\"none\"/>\n",
              "    <path d=\"M18.56 5.44l.94 2.06.94-2.06 2.06-.94-2.06-.94-.94-2.06-.94 2.06-2.06.94zm-11 1L8.5 8.5l.94-2.06 2.06-.94-2.06-.94L8.5 2.5l-.94 2.06-2.06.94zm10 10l.94 2.06.94-2.06 2.06-.94-2.06-.94-.94-2.06-.94 2.06-2.06.94z\"/><path d=\"M17.41 7.96l-1.37-1.37c-.4-.4-.92-.59-1.43-.59-.52 0-1.04.2-1.43.59L10.3 9.45l-7.72 7.72c-.78.78-.78 2.05 0 2.83L4 21.41c.39.39.9.59 1.41.59.51 0 1.02-.2 1.41-.59l7.78-7.78 2.81-2.81c.8-.78.8-2.07 0-2.86zM5.41 20L4 18.59l7.72-7.72 1.47 1.35L5.41 20z\"/>\n",
              "  </svg>\n",
              "      </button>\n",
              "      \n",
              "  <style>\n",
              "    .colab-df-container {\n",
              "      display:flex;\n",
              "      flex-wrap:wrap;\n",
              "      gap: 12px;\n",
              "    }\n",
              "\n",
              "    .colab-df-convert {\n",
              "      background-color: #E8F0FE;\n",
              "      border: none;\n",
              "      border-radius: 50%;\n",
              "      cursor: pointer;\n",
              "      display: none;\n",
              "      fill: #1967D2;\n",
              "      height: 32px;\n",
              "      padding: 0 0 0 0;\n",
              "      width: 32px;\n",
              "    }\n",
              "\n",
              "    .colab-df-convert:hover {\n",
              "      background-color: #E2EBFA;\n",
              "      box-shadow: 0px 1px 2px rgba(60, 64, 67, 0.3), 0px 1px 3px 1px rgba(60, 64, 67, 0.15);\n",
              "      fill: #174EA6;\n",
              "    }\n",
              "\n",
              "    [theme=dark] .colab-df-convert {\n",
              "      background-color: #3B4455;\n",
              "      fill: #D2E3FC;\n",
              "    }\n",
              "\n",
              "    [theme=dark] .colab-df-convert:hover {\n",
              "      background-color: #434B5C;\n",
              "      box-shadow: 0px 1px 3px 1px rgba(0, 0, 0, 0.15);\n",
              "      filter: drop-shadow(0px 1px 2px rgba(0, 0, 0, 0.3));\n",
              "      fill: #FFFFFF;\n",
              "    }\n",
              "  </style>\n",
              "\n",
              "      <script>\n",
              "        const buttonEl =\n",
              "          document.querySelector('#df-782d4b12-c1a5-4f69-8bb2-4cffa93bb5a2 button.colab-df-convert');\n",
              "        buttonEl.style.display =\n",
              "          google.colab.kernel.accessAllowed ? 'block' : 'none';\n",
              "\n",
              "        async function convertToInteractive(key) {\n",
              "          const element = document.querySelector('#df-782d4b12-c1a5-4f69-8bb2-4cffa93bb5a2');\n",
              "          const dataTable =\n",
              "            await google.colab.kernel.invokeFunction('convertToInteractive',\n",
              "                                                     [key], {});\n",
              "          if (!dataTable) return;\n",
              "\n",
              "          const docLinkHtml = 'Like what you see? Visit the ' +\n",
              "            '<a target=\"_blank\" href=https://colab.research.google.com/notebooks/data_table.ipynb>data table notebook</a>'\n",
              "            + ' to learn more about interactive tables.';\n",
              "          element.innerHTML = '';\n",
              "          dataTable['output_type'] = 'display_data';\n",
              "          await google.colab.output.renderOutput(dataTable, element);\n",
              "          const docLink = document.createElement('div');\n",
              "          docLink.innerHTML = docLinkHtml;\n",
              "          element.appendChild(docLink);\n",
              "        }\n",
              "      </script>\n",
              "    </div>\n",
              "  </div>\n",
              "  "
            ]
          },
          "metadata": {},
          "execution_count": 35
        }
      ],
      "source": [
        "# We use the date and close price values for our model training\n",
        "close_data= pypl_data.iloc[: , 3:4]\n",
        "close_data.head()"
      ]
    },
    {
      "cell_type": "code",
      "execution_count": 36,
      "id": "9483a63b",
      "metadata": {
        "id": "9483a63b"
      },
      "outputs": [],
      "source": [
        "training_set = close_data.iloc[:1030,:].values\n",
        "test_set = close_data.iloc[1030:,:].values"
      ]
    },
    {
      "cell_type": "code",
      "execution_count": 37,
      "id": "c424f9f0",
      "metadata": {
        "id": "c424f9f0"
      },
      "outputs": [],
      "source": [
        "# Normalize the data for better performance\n",
        "from sklearn.preprocessing import MinMaxScaler\n",
        "sc= MinMaxScaler(feature_range=(0,1))\n",
        "training_set_scaled= sc.fit_transform(training_set)"
      ]
    },
    {
      "cell_type": "code",
      "execution_count": 38,
      "id": "1fca77d4",
      "metadata": {
        "id": "1fca77d4"
      },
      "outputs": [],
      "source": [
        "# Create a data structure with shorter sequence\n",
        "\n",
        "def split_into_sequences(data, seq_len):\n",
        "    n_seq = len(data) - seq_len\n",
        "    return np.array([data[i:(i+seq_len),0] for i in range(n_seq)]), np.array([data[i+seq_len,0] for i in range(n_seq)])\n",
        "\n",
        "X_train, y_train= split_into_sequences(training_set_scaled, 60)"
      ]
    },
    {
      "cell_type": "code",
      "execution_count": 39,
      "id": "13fe4702",
      "metadata": {
        "colab": {
          "base_uri": "https://localhost:8080/"
        },
        "id": "13fe4702",
        "outputId": "c615f1b4-8060-4dd7-c24d-f3066f67deb5"
      },
      "outputs": [
        {
          "output_type": "execute_result",
          "data": {
            "text/plain": [
              "(array([0.00891044, 0.02119931, 0.02111487, 0.0294341 , 0.03091216,\n",
              "        0.03150338, 0.03226351, 0.03386823, 0.03720438, 0.03669761,\n",
              "        0.04535472, 0.04733952, 0.05114017, 0.05173142, 0.05270269,\n",
              "        0.0505912 , 0.05325166, 0.05793916, 0.05312498, 0.05088681,\n",
              "        0.05739019, 0.02816722, 0.02043917, 0.01256334, 0.01668073,\n",
              "        0.01630065, 0.00249154, 0.01275336, 0.01499154, 0.01368242,\n",
              "        0.02339524, 0.0277238 , 0.02804054, 0.02250842, 0.02018581,\n",
              "        0.02521112, 0.03361486, 0.03217903, 0.03264356, 0.03243243,\n",
              "        0.02918073, 0.03015203, 0.03099661, 0.0316723 , 0.03289693,\n",
              "        0.034375  , 0.03792228, 0.03745775, 0.03576855, 0.048902  ,\n",
              "        0.04577701, 0.04404561, 0.03619088, 0.03855573, 0.03931587,\n",
              "        0.02884288, 0.0198902 , 0.03048984, 0.01934119, 0.01406248]),\n",
              " 0.01748310586858004)"
            ]
          },
          "metadata": {},
          "execution_count": 39
        }
      ],
      "source": [
        "X_train[0],y_train[0]"
      ]
    },
    {
      "cell_type": "code",
      "execution_count": 40,
      "id": "c4061eb4",
      "metadata": {
        "colab": {
          "base_uri": "https://localhost:8080/"
        },
        "id": "c4061eb4",
        "outputId": "87fc0189-6e98-497d-9ca0-0775f362a594"
      },
      "outputs": [
        {
          "output_type": "execute_result",
          "data": {
            "text/plain": [
              "((970, 60), (970,))"
            ]
          },
          "metadata": {},
          "execution_count": 40
        }
      ],
      "source": [
        "X_train.shape, y_train.shape"
      ]
    },
    {
      "cell_type": "code",
      "execution_count": 41,
      "id": "0456f766",
      "metadata": {
        "colab": {
          "base_uri": "https://localhost:8080/"
        },
        "id": "0456f766",
        "outputId": "197df185-978a-4c1b-e9e0-e18270ce3655"
      },
      "outputs": [
        {
          "output_type": "execute_result",
          "data": {
            "text/plain": [
              "(970, 60, 1)"
            ]
          },
          "metadata": {},
          "execution_count": 41
        }
      ],
      "source": [
        "# reshape the data into the following format (values, time-steps, 1 dimensional output)\n",
        "X_train= np.reshape(X_train,(X_train.shape[0],X_train.shape[1],1))\n",
        "X_train.shape"
      ]
    },
    {
      "cell_type": "markdown",
      "id": "0c08ddfa",
      "metadata": {
        "id": "0c08ddfa"
      },
      "source": [
        "### Build the LSTM Model"
      ]
    },
    {
      "cell_type": "code",
      "execution_count": 42,
      "id": "39588c3f",
      "metadata": {
        "id": "39588c3f"
      },
      "outputs": [],
      "source": [
        "# Use Keras libraries and packages\n",
        "import tensorflow as tf\n",
        "from tensorflow.keras.models import Sequential\n",
        "from tensorflow.keras.layers import Dense, Dropout, LSTM"
      ]
    },
    {
      "cell_type": "code",
      "execution_count": 43,
      "id": "64c258d9",
      "metadata": {
        "id": "64c258d9"
      },
      "outputs": [],
      "source": [
        "# Build an RNN model with 4 layers\n",
        "\n",
        "# Initialize the RNN\n",
        "model= Sequential()\n",
        "\n",
        "# Adding first LSTM layer and Dropout regularization\n",
        "model.add(LSTM(units=100,return_sequences=True, input_shape=(X_train.shape[1],1)))\n",
        "model.add(Dropout(rate=0.2))\n",
        "\n",
        "# Adding second LSTM layer and Dropout regularization\n",
        "model.add(LSTM(units=100,return_sequences=True))\n",
        "model.add(Dropout(rate=0.2))\n",
        "\n",
        "# Adding third LSTM layer and Dropout regularization\n",
        "model.add(LSTM(units=100,return_sequences=True))\n",
        "model.add(Dropout(rate=0.2))\n",
        "\n",
        "# Adding fourth LSTM layer and Dropout regularization\n",
        "model.add(LSTM(units=100))\n",
        "model.add(Dropout(rate=0.2))\n",
        "\n",
        "# Adding the Output Layer\n",
        "model.add(Dense(units=1))\n",
        "\n",
        "# Compiling the Model with loss function of mean_square_error\n",
        "model.compile(loss='mean_squared_error', optimizer='adam')"
      ]
    },
    {
      "cell_type": "code",
      "source": [
        "model.summary()"
      ],
      "metadata": {
        "colab": {
          "base_uri": "https://localhost:8080/"
        },
        "id": "GMgMdyAlz91A",
        "outputId": "3dc2aa38-4b23-4f2c-83f2-43472e1057ce"
      },
      "id": "GMgMdyAlz91A",
      "execution_count": 44,
      "outputs": [
        {
          "output_type": "stream",
          "name": "stdout",
          "text": [
            "Model: \"sequential_2\"\n",
            "_________________________________________________________________\n",
            " Layer (type)                Output Shape              Param #   \n",
            "=================================================================\n",
            " lstm_8 (LSTM)               (None, 60, 100)           40800     \n",
            "                                                                 \n",
            " dropout_8 (Dropout)         (None, 60, 100)           0         \n",
            "                                                                 \n",
            " lstm_9 (LSTM)               (None, 60, 100)           80400     \n",
            "                                                                 \n",
            " dropout_9 (Dropout)         (None, 60, 100)           0         \n",
            "                                                                 \n",
            " lstm_10 (LSTM)              (None, 60, 100)           80400     \n",
            "                                                                 \n",
            " dropout_10 (Dropout)        (None, 60, 100)           0         \n",
            "                                                                 \n",
            " lstm_11 (LSTM)              (None, 100)               80400     \n",
            "                                                                 \n",
            " dropout_11 (Dropout)        (None, 100)               0         \n",
            "                                                                 \n",
            " dense_2 (Dense)             (None, 1)                 101       \n",
            "                                                                 \n",
            "=================================================================\n",
            "Total params: 282,101\n",
            "Trainable params: 282,101\n",
            "Non-trainable params: 0\n",
            "_________________________________________________________________\n"
          ]
        }
      ]
    },
    {
      "cell_type": "code",
      "source": [
        "# Fitting the model\n",
        "history=model.fit(X_train,y_train,epochs=100,batch_size=50)"
      ],
      "metadata": {
        "colab": {
          "base_uri": "https://localhost:8080/"
        },
        "id": "qfKHKdp70HEP",
        "outputId": "4acd7d42-8965-4c9b-a4f1-f1cee267fb28"
      },
      "id": "qfKHKdp70HEP",
      "execution_count": 45,
      "outputs": [
        {
          "output_type": "stream",
          "name": "stdout",
          "text": [
            "Epoch 1/100\n",
            "20/20 [==============================] - 7s 21ms/step - loss: 0.0530\n",
            "Epoch 2/100\n",
            "20/20 [==============================] - 0s 13ms/step - loss: 0.0074\n",
            "Epoch 3/100\n",
            "20/20 [==============================] - 0s 14ms/step - loss: 0.0044\n",
            "Epoch 4/100\n",
            "20/20 [==============================] - 0s 14ms/step - loss: 0.0045\n",
            "Epoch 5/100\n",
            "20/20 [==============================] - 0s 14ms/step - loss: 0.0044\n",
            "Epoch 6/100\n",
            "20/20 [==============================] - 0s 14ms/step - loss: 0.0035\n",
            "Epoch 7/100\n",
            "20/20 [==============================] - 0s 14ms/step - loss: 0.0038\n",
            "Epoch 8/100\n",
            "20/20 [==============================] - 0s 18ms/step - loss: 0.0037\n",
            "Epoch 9/100\n",
            "20/20 [==============================] - 0s 20ms/step - loss: 0.0036\n",
            "Epoch 10/100\n",
            "20/20 [==============================] - 0s 19ms/step - loss: 0.0043\n",
            "Epoch 11/100\n",
            "20/20 [==============================] - 0s 19ms/step - loss: 0.0038\n",
            "Epoch 12/100\n",
            "20/20 [==============================] - 0s 19ms/step - loss: 0.0037\n",
            "Epoch 13/100\n",
            "20/20 [==============================] - 0s 19ms/step - loss: 0.0032\n",
            "Epoch 14/100\n",
            "20/20 [==============================] - 0s 19ms/step - loss: 0.0034\n",
            "Epoch 15/100\n",
            "20/20 [==============================] - 0s 14ms/step - loss: 0.0027\n",
            "Epoch 16/100\n",
            "20/20 [==============================] - 0s 14ms/step - loss: 0.0030\n",
            "Epoch 17/100\n",
            "20/20 [==============================] - 0s 13ms/step - loss: 0.0034\n",
            "Epoch 18/100\n",
            "20/20 [==============================] - 0s 15ms/step - loss: 0.0036\n",
            "Epoch 19/100\n",
            "20/20 [==============================] - 0s 14ms/step - loss: 0.0045\n",
            "Epoch 20/100\n",
            "20/20 [==============================] - 0s 14ms/step - loss: 0.0031\n",
            "Epoch 21/100\n",
            "20/20 [==============================] - 0s 14ms/step - loss: 0.0030\n",
            "Epoch 22/100\n",
            "20/20 [==============================] - 0s 14ms/step - loss: 0.0029\n",
            "Epoch 23/100\n",
            "20/20 [==============================] - 0s 14ms/step - loss: 0.0026\n",
            "Epoch 24/100\n",
            "20/20 [==============================] - 0s 14ms/step - loss: 0.0027\n",
            "Epoch 25/100\n",
            "20/20 [==============================] - 0s 14ms/step - loss: 0.0026\n",
            "Epoch 26/100\n",
            "20/20 [==============================] - 0s 14ms/step - loss: 0.0024\n",
            "Epoch 27/100\n",
            "20/20 [==============================] - 0s 15ms/step - loss: 0.0022\n",
            "Epoch 28/100\n",
            "20/20 [==============================] - 0s 13ms/step - loss: 0.0023\n",
            "Epoch 29/100\n",
            "20/20 [==============================] - 0s 14ms/step - loss: 0.0025\n",
            "Epoch 30/100\n",
            "20/20 [==============================] - 0s 14ms/step - loss: 0.0028\n",
            "Epoch 31/100\n",
            "20/20 [==============================] - 0s 14ms/step - loss: 0.0028\n",
            "Epoch 32/100\n",
            "20/20 [==============================] - 0s 16ms/step - loss: 0.0021\n",
            "Epoch 33/100\n",
            "20/20 [==============================] - 0s 19ms/step - loss: 0.0021\n",
            "Epoch 34/100\n",
            "20/20 [==============================] - 1s 29ms/step - loss: 0.0023\n",
            "Epoch 35/100\n",
            "20/20 [==============================] - 0s 14ms/step - loss: 0.0025\n",
            "Epoch 36/100\n",
            "20/20 [==============================] - 0s 20ms/step - loss: 0.0023\n",
            "Epoch 37/100\n",
            "20/20 [==============================] - 1s 29ms/step - loss: 0.0024\n",
            "Epoch 38/100\n",
            "20/20 [==============================] - 0s 14ms/step - loss: 0.0022\n",
            "Epoch 39/100\n",
            "20/20 [==============================] - 0s 23ms/step - loss: 0.0022\n",
            "Epoch 40/100\n",
            "20/20 [==============================] - 1s 25ms/step - loss: 0.0025\n",
            "Epoch 41/100\n",
            "20/20 [==============================] - 0s 15ms/step - loss: 0.0020\n",
            "Epoch 42/100\n",
            "20/20 [==============================] - 0s 14ms/step - loss: 0.0027\n",
            "Epoch 43/100\n",
            "20/20 [==============================] - 0s 14ms/step - loss: 0.0020\n",
            "Epoch 44/100\n",
            "20/20 [==============================] - 0s 14ms/step - loss: 0.0023\n",
            "Epoch 45/100\n",
            "20/20 [==============================] - 0s 18ms/step - loss: 0.0022\n",
            "Epoch 46/100\n",
            "20/20 [==============================] - 0s 21ms/step - loss: 0.0019\n",
            "Epoch 47/100\n",
            "20/20 [==============================] - 0s 21ms/step - loss: 0.0018\n",
            "Epoch 48/100\n",
            "20/20 [==============================] - 0s 19ms/step - loss: 0.0017\n",
            "Epoch 49/100\n",
            "20/20 [==============================] - 0s 19ms/step - loss: 0.0019\n",
            "Epoch 50/100\n",
            "20/20 [==============================] - 0s 19ms/step - loss: 0.0021\n",
            "Epoch 51/100\n",
            "20/20 [==============================] - 0s 19ms/step - loss: 0.0019\n",
            "Epoch 52/100\n",
            "20/20 [==============================] - 0s 15ms/step - loss: 0.0019\n",
            "Epoch 53/100\n",
            "20/20 [==============================] - 0s 14ms/step - loss: 0.0025\n",
            "Epoch 54/100\n",
            "20/20 [==============================] - 0s 13ms/step - loss: 0.0019\n",
            "Epoch 55/100\n",
            "20/20 [==============================] - 0s 14ms/step - loss: 0.0017\n",
            "Epoch 56/100\n",
            "20/20 [==============================] - 0s 14ms/step - loss: 0.0018\n",
            "Epoch 57/100\n",
            "20/20 [==============================] - 0s 14ms/step - loss: 0.0019\n",
            "Epoch 58/100\n",
            "20/20 [==============================] - 0s 15ms/step - loss: 0.0022\n",
            "Epoch 59/100\n",
            "20/20 [==============================] - 0s 14ms/step - loss: 0.0018\n",
            "Epoch 60/100\n",
            "20/20 [==============================] - 0s 14ms/step - loss: 0.0021\n",
            "Epoch 61/100\n",
            "20/20 [==============================] - 0s 14ms/step - loss: 0.0016\n",
            "Epoch 62/100\n",
            "20/20 [==============================] - 0s 14ms/step - loss: 0.0019\n",
            "Epoch 63/100\n",
            "20/20 [==============================] - 0s 14ms/step - loss: 0.0017\n",
            "Epoch 64/100\n",
            "20/20 [==============================] - 0s 14ms/step - loss: 0.0017\n",
            "Epoch 65/100\n",
            "20/20 [==============================] - 0s 14ms/step - loss: 0.0017\n",
            "Epoch 66/100\n",
            "20/20 [==============================] - 0s 14ms/step - loss: 0.0015\n",
            "Epoch 67/100\n",
            "20/20 [==============================] - 0s 14ms/step - loss: 0.0015\n",
            "Epoch 68/100\n",
            "20/20 [==============================] - 0s 14ms/step - loss: 0.0018\n",
            "Epoch 69/100\n",
            "20/20 [==============================] - 0s 14ms/step - loss: 0.0017\n",
            "Epoch 70/100\n",
            "20/20 [==============================] - 0s 14ms/step - loss: 0.0016\n",
            "Epoch 71/100\n",
            "20/20 [==============================] - 0s 14ms/step - loss: 0.0014\n",
            "Epoch 72/100\n",
            "20/20 [==============================] - 0s 13ms/step - loss: 0.0014\n",
            "Epoch 73/100\n",
            "20/20 [==============================] - 0s 14ms/step - loss: 0.0017\n",
            "Epoch 74/100\n",
            "20/20 [==============================] - 0s 15ms/step - loss: 0.0015\n",
            "Epoch 75/100\n",
            "20/20 [==============================] - 0s 14ms/step - loss: 0.0016\n",
            "Epoch 76/100\n",
            "20/20 [==============================] - 0s 14ms/step - loss: 0.0014\n",
            "Epoch 77/100\n",
            "20/20 [==============================] - 0s 15ms/step - loss: 0.0016\n",
            "Epoch 78/100\n",
            "20/20 [==============================] - 0s 14ms/step - loss: 0.0017\n",
            "Epoch 79/100\n",
            "20/20 [==============================] - 0s 16ms/step - loss: 0.0019\n",
            "Epoch 80/100\n",
            "20/20 [==============================] - 0s 15ms/step - loss: 0.0016\n",
            "Epoch 81/100\n",
            "20/20 [==============================] - 0s 14ms/step - loss: 0.0014\n",
            "Epoch 82/100\n",
            "20/20 [==============================] - 0s 14ms/step - loss: 0.0018\n",
            "Epoch 83/100\n",
            "20/20 [==============================] - 0s 14ms/step - loss: 0.0014\n",
            "Epoch 84/100\n",
            "20/20 [==============================] - 0s 14ms/step - loss: 0.0017\n",
            "Epoch 85/100\n",
            "20/20 [==============================] - 0s 15ms/step - loss: 0.0014\n",
            "Epoch 86/100\n",
            "20/20 [==============================] - 0s 17ms/step - loss: 0.0015\n",
            "Epoch 87/100\n",
            "20/20 [==============================] - 0s 20ms/step - loss: 0.0016\n",
            "Epoch 88/100\n",
            "20/20 [==============================] - 0s 20ms/step - loss: 0.0015\n",
            "Epoch 89/100\n",
            "20/20 [==============================] - 0s 20ms/step - loss: 0.0015\n",
            "Epoch 90/100\n",
            "20/20 [==============================] - 0s 19ms/step - loss: 0.0018\n",
            "Epoch 91/100\n",
            "20/20 [==============================] - 0s 19ms/step - loss: 0.0017\n",
            "Epoch 92/100\n",
            "20/20 [==============================] - 0s 20ms/step - loss: 0.0019\n",
            "Epoch 93/100\n",
            "20/20 [==============================] - 0s 15ms/step - loss: 0.0015\n",
            "Epoch 94/100\n",
            "20/20 [==============================] - 0s 14ms/step - loss: 0.0015\n",
            "Epoch 95/100\n",
            "20/20 [==============================] - 0s 15ms/step - loss: 0.0014\n",
            "Epoch 96/100\n",
            "20/20 [==============================] - 0s 14ms/step - loss: 0.0015\n",
            "Epoch 97/100\n",
            "20/20 [==============================] - 0s 14ms/step - loss: 0.0014\n",
            "Epoch 98/100\n",
            "20/20 [==============================] - 0s 14ms/step - loss: 0.0016\n",
            "Epoch 99/100\n",
            "20/20 [==============================] - 0s 15ms/step - loss: 0.0014\n",
            "Epoch 100/100\n",
            "20/20 [==============================] - 0s 14ms/step - loss: 0.0017\n"
          ]
        }
      ]
    },
    {
      "cell_type": "code",
      "source": [
        "# Evaluating The Model\n",
        "plt.figure(figsize=(12,5))\n",
        "plt.plot(history.history['loss'])\n",
        "plt.xlabel('Epochs')\n",
        "plt.ylabel('Loss')\n",
        "plt.show()"
      ],
      "metadata": {
        "colab": {
          "base_uri": "https://localhost:8080/",
          "height": 465
        },
        "id": "KD9DzVTg0abQ",
        "outputId": "5f280130-2b2b-4502-b5bc-452670c74db2"
      },
      "id": "KD9DzVTg0abQ",
      "execution_count": 46,
      "outputs": [
        {
          "output_type": "display_data",
          "data": {
            "text/plain": [
              "<Figure size 1200x500 with 1 Axes>"
            ],
            "image/png": "[encoded data removed]"
          },
          "metadata": {}
        }
      ]
    },
    {
      "cell_type": "markdown",
      "source": [
        "###Predict the Data"
      ],
      "metadata": {
        "id": "oGZLrjET03_A"
      },
      "id": "oGZLrjET03_A"
    },
    {
      "cell_type": "code",
      "source": [
        "# Load train and est data set\n",
        "train_data= pd.read_csv('data_train.csv')\n",
        "test_data= pd.read_csv('data_test.csv')"
      ],
      "metadata": {
        "id": "LcLDvaSW1H3h"
      },
      "id": "LcLDvaSW1H3h",
      "execution_count": 47,
      "outputs": []
    },
    {
      "cell_type": "code",
      "source": [
        "real_stock_price = test_data.iloc[:, 3:4].values"
      ],
      "metadata": {
        "id": "p4NvvPPA1UVY"
      },
      "id": "p4NvvPPA1UVY",
      "execution_count": 48,
      "outputs": []
    },
    {
      "cell_type": "code",
      "source": [
        "real_stock_price.shape"
      ],
      "metadata": {
        "colab": {
          "base_uri": "https://localhost:8080/"
        },
        "id": "5kU_JzRQ3tWv",
        "outputId": "13aebfbb-84d8-455a-e722-b85f0ff388f3"
      },
      "id": "5kU_JzRQ3tWv",
      "execution_count": 54,
      "outputs": [
        {
          "output_type": "execute_result",
          "data": {
            "text/plain": [
              "(344, 1)"
            ]
          },
          "metadata": {},
          "execution_count": 54
        }
      ]
    },
    {
      "cell_type": "code",
      "source": [
        "# Concatenate and Scale\n",
        "total_data= pd.concat([train_data['Close'], test_data['Close']],  axis=0)\n",
        "inputs= total_data[len(total_data)-len(test_data)-60:].values\n",
        "inputs = inputs.reshape(-1,1)\n",
        "inputs = sc.transform(inputs)\n",
        "\n",
        "X_test = []\n",
        "for i in range(60, 404):\n",
        "    X_test.append(inputs[i-60:i, 0])\n",
        "\n",
        "X_test = np.array(X_test)\n",
        "X_test = np.reshape(X_test, (X_test.shape[0], X_test.shape[1], 1))"
      ],
      "metadata": {
        "id": "48lg8oYp1b7f"
      },
      "id": "48lg8oYp1b7f",
      "execution_count": 55,
      "outputs": []
    },
    {
      "cell_type": "code",
      "source": [
        "X_test.shape"
      ],
      "metadata": {
        "colab": {
          "base_uri": "https://localhost:8080/"
        },
        "id": "H87Eu8JQ118F",
        "outputId": "4ae25ec2-087c-4e3f-f29f-41262e7b1277"
      },
      "id": "H87Eu8JQ118F",
      "execution_count": 56,
      "outputs": [
        {
          "output_type": "execute_result",
          "data": {
            "text/plain": [
              "(344, 60, 1)"
            ]
          },
          "metadata": {},
          "execution_count": 56
        }
      ]
    },
    {
      "cell_type": "code",
      "source": [
        "# Predict the model\n",
        "predicted_stock_price = model.predict(X_test)"
      ],
      "metadata": {
        "colab": {
          "base_uri": "https://localhost:8080/"
        },
        "id": "MqFmeh4r15pZ",
        "outputId": "b0191f35-84ec-4ef4-f3e5-ff29018c7cd9"
      },
      "id": "MqFmeh4r15pZ",
      "execution_count": 57,
      "outputs": [
        {
          "output_type": "stream",
          "name": "stdout",
          "text": [
            "11/11 [==============================] - 0s 10ms/step\n"
          ]
        }
      ]
    },
    {
      "cell_type": "code",
      "source": [
        "# Inverse the scaling\n",
        "predicted_stock_price = sc.inverse_transform(predicted_stock_price)"
      ],
      "metadata": {
        "id": "Db_nYmNl2CXo"
      },
      "id": "Db_nYmNl2CXo",
      "execution_count": 58,
      "outputs": []
    },
    {
      "cell_type": "markdown",
      "source": [
        "### Visualize the Result"
      ],
      "metadata": {
        "id": "2PZbXkcU3C06"
      },
      "id": "2PZbXkcU3C06"
    },
    {
      "cell_type": "code",
      "source": [
        "plt.figure(figsize=(12,6))\n",
        "plt.plot(real_stock_price, color='Red', label='Real Paypal Stock Price')\n",
        "plt.plot(predicted_stock_price, color='Blue', label='Predicted Paypal Stock Price')\n",
        "plt.title('Paypal Stock Price Prediction',fontsize=18)\n",
        "plt.xlabel('Time', fontsize=15)\n",
        "plt.ylabel('Paypal Stock Price',fontsize=15)\n",
        "plt.legend()\n",
        "plt.show()"
      ],
      "metadata": {
        "colab": {
          "base_uri": "https://localhost:8080/",
          "height": 575
        },
        "id": "df391W2j3GAC",
        "outputId": "be7e1987-37ff-401b-81af-b8225d8df5a2"
      },
      "id": "df391W2j3GAC",
      "execution_count": 59,
      "outputs": [
        {
          "output_type": "display_data",
          "data": {
            "text/plain": [
              "<Figure size 1200x600 with 1 Axes>"
            ],
            "image/png": "[encoded data removed]"
          },
          "metadata": {}
        }
      ]
    },
    {
      "cell_type": "code",
      "source": [],
      "metadata": {
        "id": "dnUI64WH399W"
      },
      "id": "dnUI64WH399W",
      "execution_count": null,
      "outputs": []
    }
  ],
  "metadata": {
    "kernelspec": {
      "display_name": "Python (pycourse)",
      "language": "python",
      "name": "pycourse"
    },
    "language_info": {
      "codemirror_mode": {
        "name": "ipython",
        "version": 3
      },
      "file_extension": ".py",
      "mimetype": "text/x-python",
      "name": "python",
      "nbconvert_exporter": "python",
      "pygments_lexer": "ipython3",
      "version": "3.8.11"
    },
    "colab": {
      "provenance": [],
      "gpuType": "T4"
    },
    "accelerator": "GPU"
  },
  "nbformat": 4,
  "nbformat_minor": 5
}